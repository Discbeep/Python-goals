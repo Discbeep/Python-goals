{
  "cells": [
    {
      "cell_type": "markdown",
      "metadata": {
        "id": "view-in-github",
        "colab_type": "text"
      },
      "source": [
        "<a href=\"https://colab.research.google.com/github/Discbeep/Python-goals/blob/main/Welcome_To_Colaboratory.ipynb\" target=\"_parent\"><img src=\"https://colab.research.google.com/assets/colab-badge.svg\" alt=\"Open In Colab\"/></a>"
      ]
    },
    {
      "cell_type": "code",
      "source": [
        "#Which Python version are you using?"
      ],
      "metadata": {
        "id": "I6df0lLdY5W6"
      },
      "execution_count": null,
      "outputs": []
    },
    {
      "cell_type": "code",
      "source": [
        "!python --version"
      ],
      "metadata": {
        "id": "O1ZwGWkuVLwr",
        "outputId": "c91e6424-452e-423f-9294-ffa99bce79c4",
        "colab": {
          "base_uri": "https://localhost:8080/"
        }
      },
      "execution_count": 5,
      "outputs": [
        {
          "output_type": "stream",
          "name": "stdout",
          "text": [
            "Python 3.10.12\n"
          ]
        }
      ]
    },
    {
      "cell_type": "code",
      "source": [
        "#Not everything can be used as a variable name. Which ones of these cannot be used as variable names? If you are not sure, try it out."
      ],
      "metadata": {
        "id": "idT2a5BMZEEK"
      },
      "execution_count": null,
      "outputs": []
    },
    {
      "cell_type": "markdown",
      "source": [
        "Python Colab is running version 3.10.12, this is the same version that I have on my laptop, I ran the python3 command and this gave me the version.\n",
        "\n"
      ],
      "metadata": {
        "id": "AzJ6SHJdVgaB"
      }
    },
    {
      "cell_type": "code",
      "source": [
        "#These cannot be variable names\n",
        "#34 A variable name cannot start with a number\n",
        "#3e4 A variable name cannot start with a number\n",
        "#i , π A variable name can only contain alpha-numeric characters and underscores (A-z, 0-9, and _ )\n",
        "\n",
        "# The ones below are valid variable names:\n",
        "#x\n",
        "#button4\n",
        "#turkey\n",
        "#square-root\n",
        "#readme\n",
        "#shorterEdge\n",
        "#shorter_Edge\n",
        "#NUMBER_OF_POINTS\n",
        "#_name_\n",
        "_#cache#\n",
        "\n",
        "\n",
        "#A variable name can only contain alpha-numeric characters and underscores (A-z, 0-9, and _ ) these are not variable names\n",
        "readme.txt\n",
        "\n",
        "#These below are reserved python words\n",
        "#True\n",
        "#while\n",
        "\n"
      ],
      "metadata": {
        "id": "_d0VjUUZV_yu"
      },
      "execution_count": null,
      "outputs": []
    },
    {
      "cell_type": "code",
      "source": [
        "Some of the names above are valid, but not very good variable names. Which ones do you think are those?\n",
        "_ for this underscore alone, I am not sure, if it can be used, it is not a best practice.\n",
        "# NUMBER_OF_POINTS Capitalized_Words_With_Underscores (ugly!)"
      ],
      "metadata": {
        "id": "eQr1_6TJY29S"
      },
      "execution_count": null,
      "outputs": []
    },
    {
      "cell_type": "code",
      "source": [
        "#"
      ],
      "metadata": {
        "id": "s3C4Wa2zbTgQ"
      },
      "execution_count": null,
      "outputs": []
    }
  ],
  "metadata": {
    "colab": {
      "name": "Welcome To Colaboratory",
      "provenance": [],
      "include_colab_link": true
    },
    "kernelspec": {
      "display_name": "Python 3",
      "name": "python3"
    }
  },
  "nbformat": 4,
  "nbformat_minor": 0
}