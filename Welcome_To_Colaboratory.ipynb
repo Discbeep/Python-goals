{
  "cells": [
    {
      "cell_type": "markdown",
      "metadata": {
        "id": "view-in-github",
        "colab_type": "text"
      },
      "source": [
        "<a href=\"https://colab.research.google.com/github/Discbeep/Python-goals/blob/main/Welcome_To_Colaboratory.ipynb\" target=\"_parent\"><img src=\"https://colab.research.google.com/assets/colab-badge.svg\" alt=\"Open In Colab\"/></a>"
      ]
    },
    {
      "cell_type": "code",
      "execution_count": null,
      "metadata": {
        "id": "zwFnJsE6vjf8"
      },
      "outputs": [],
      "source": []
    },
    {
      "cell_type": "markdown",
      "source": [
        "1. #Which Python version are you using?\n",
        "!python --version\n",
        "## Python 3.10.12\n"
      ],
      "metadata": {
        "id": "gxwfAkhbsuQt"
      }
    },
    {
      "cell_type": "markdown",
      "source": [
        "#Not everything can be used as a variable name. Which ones of these cannot be used as variable names? If you are not sure, try it out.\n",
        "# #These cannot be variable names\n",
        "#34 A variable name cannot start with a number\n",
        "#3e4 A variable name cannot start with a number\n",
        "#i , π A variable name can only contain alpha-numeric characters and underscores (A-z, 0-9, and _ )\n",
        "\n",
        "# The ones below are valid variable names:\n",
        "#x\n",
        "#button4\n",
        "#turkey\n",
        "#square-root\n",
        "#readme\n",
        "#shorterEdge\n",
        "#shorter_Edge\n",
        "#NUMBER_OF_POINTS\n",
        "#_name_\n",
        "_#cache#\n",
        "\n",
        "\n",
        "#A variable name can only contain alpha-numeric characters and underscores (A-z, 0-9, and _ ) these are not variable names\n",
        "readme.txt\n",
        "\n",
        "#These below are reserved python words\n",
        "#True\n",
        "#while\n",
        "\n",
        "```\n",
        "# This is formatted as code\n",
        "```\n",
        "\n"
      ],
      "metadata": {
        "id": "34uxF1oQs4ZZ"
      }
    },
    {
      "cell_type": "markdown",
      "source": [
        "3. Some of the names above are valid, but not very good variable names. Which ones do you think are those?\n",
        "**_ **for this underscore alone, I am not sure! if it can be used, it is not a best practice.\n",
        "NUMBER_OF_POINTS Capitalized_Words_With_Underscores (ugly!)"
      ],
      "metadata": {
        "id": "AOtzbSpltDdu"
      }
    },
    {
      "cell_type": "markdown",
      "source": [
        "4. Which one of shorterEdge, shorter_edge is a more correct name for a variable? Why? Try searching for PEP 8 variable names. What's a PEP 8\n",
        "shorter_edge is the more correct one because;\n",
        "* PEP 8 recommends using lowercase letters with underscores (_) to separate words in variable names. This naming convention improves readability and consistency across Python code.\n",
        "* Clearly conveys the variable's purpose, making the code easier to understand for both you and others who might read it.\n",
        "PEP 8 is a document that outlines style guidelines and best practices for writing Python code. It's not an enforced standard, but following its recommendations is highly encouraged within the Python community. Here are some key benefits:\n",
        "* Readability: Consistent formatting and naming conventions make code easier to understand.\n",
        "* Code that follows PEP 8 is easier to modify and debug.\n",
        "* Following a shared style guide fosters better communication and collaboration among Python developers."
      ],
      "metadata": {
        "id": "6mC_IAu0tPkh"
      }
    },
    {
      "cell_type": "code",
      "source": [
        "# 5. write a program that calculates the surface and volume of a cube with edge = 2852 cm\n",
        "# This was quite hard for me to interprete, I used ChatGPT\n",
        "#Define the ength of the edge in cm\n",
        "edge_length = 2852\n",
        "\n",
        "#calculate the surface area and volume\n",
        "surface_area = 6 * edge_length ** 2\n",
        "\n",
        "volume = edge_length ** 3\n",
        "\n",
        "print(\"Surface Area of the cube\", surface_area, \"square centimeters\")\n",
        "print(\"Volume of the Cube\", volume, \"cubic centimeters\")"
      ],
      "metadata": {
        "colab": {
          "base_uri": "https://localhost:8080/"
        },
        "id": "b-nUGnkatT_R",
        "outputId": "e1144205-236e-4a5b-967e-37cd91aae94b"
      },
      "execution_count": 15,
      "outputs": [
        {
          "output_type": "stream",
          "name": "stdout",
          "text": [
            "Surface Area of the cube 48803424 square centimeters\n",
            "Volume of the Cube 23197894208 cubic centimeters\n"
          ]
        }
      ]
    },
    {
      "cell_type": "code",
      "source": [
        "# 6. Define the ength of the edge in cm\n",
        "edge_length = int(input(\"Enter the edge length of the cube (in centimeters): \"))\n",
        "\n",
        "\n",
        "#calculate the surface area and volume\n",
        "surface_area = 6 * edge_length ** 2\n",
        "\n",
        "volume = edge_length ** 3\n",
        "\n",
        "print(\"Surface Area of the cube\", surface_area, \"square centimeters\")\n",
        "print(\"Volume of the Cube\", volume, \"cubic centimeters\")\n"
      ],
      "metadata": {
        "colab": {
          "base_uri": "https://localhost:8080/"
        },
        "id": "U_7AZLX7tYpt",
        "outputId": "ee2a28cf-adda-4561-8de4-5fa598314fa6"
      },
      "execution_count": 14,
      "outputs": [
        {
          "output_type": "stream",
          "name": "stdout",
          "text": [
            "Enter the edge length of the cube (in centimeters): 52\n",
            "Surface Area of the cube 16224 square centimeters\n",
            "Volume of the Cube 140608 cubic centimeters\n"
          ]
        }
      ]
    },
    {
      "cell_type": "code",
      "source": [
        "# 7. Write a program that calculates the Body Mass Index (BMI) from a user's weight and height\n",
        "#input weight in kg and height in meters\n",
        "weight = float(input(\"Please enter your weight in kg: \"))\n",
        "height = float(input(\"Please enter your height in meters: \"))\n",
        "\n",
        "#calculate the bmi\n",
        "bmi = weight / height ** 2\n",
        "\n",
        "print(\"Your bmi is:\", bmi)"
      ],
      "metadata": {
        "colab": {
          "base_uri": "https://localhost:8080/"
        },
        "id": "_3D_sQuZte7A",
        "outputId": "6f71ddb5-aff6-414e-8f60-d446335b39bc"
      },
      "execution_count": 13,
      "outputs": [
        {
          "output_type": "stream",
          "name": "stdout",
          "text": [
            "Please enter your weight in kg: 85\n",
            "Please enter your height in meters: 96\n",
            "Your bmi is: 0.009223090277777778\n"
          ]
        }
      ]
    },
    {
      "cell_type": "code",
      "source": [
        "# Write the following code into single cell and run it more times. What is it doing?\n",
        "from random import randrange\n",
        "number = randrange(3)\n",
        "print(number)"
      ],
      "metadata": {
        "colab": {
          "base_uri": "https://localhost:8080/"
        },
        "id": "hoWhOuPpuXZ3",
        "outputId": "4e7d1c4e-e0f7-4ec2-de0a-21596513f61e"
      },
      "execution_count": 11,
      "outputs": [
        {
          "output_type": "stream",
          "name": "stdout",
          "text": [
            "0\n"
          ]
        }
      ]
    },
    {
      "cell_type": "markdown",
      "source": [
        "Each time I run the code,, it brings random numbers 0,1, and 2"
      ],
      "metadata": {
        "id": "AGOfMsc0u6LU"
      }
    }
  ],
  "metadata": {
    "colab": {
      "name": "Welcome To Colaboratory",
      "toc_visible": true,
      "provenance": [],
      "include_colab_link": true
    },
    "kernelspec": {
      "display_name": "Python 3",
      "name": "python3"
    }
  },
  "nbformat": 4,
  "nbformat_minor": 0
}