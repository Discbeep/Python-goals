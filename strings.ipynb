{
  "nbformat": 4,
  "nbformat_minor": 0,
  "metadata": {
    "colab": {
      "provenance": [],
      "include_colab_link": true
    },
    "kernelspec": {
      "name": "python3",
      "display_name": "Python 3"
    },
    "language_info": {
      "name": "python"
    }
  },
  "cells": [
    {
      "cell_type": "markdown",
      "metadata": {
        "id": "view-in-github",
        "colab_type": "text"
      },
      "source": [
        "<a href=\"https://colab.research.google.com/github/Discbeep/Python-goals/blob/main/strings.ipynb\" target=\"_parent\"><img src=\"https://colab.research.google.com/assets/colab-badge.svg\" alt=\"Open In Colab\"/></a>"
      ]
    },
    {
      "cell_type": "code",
      "execution_count": null,
      "metadata": {
        "colab": {
          "base_uri": "https://localhost:8080/"
        },
        "id": "Dqxk1wFhvmy2",
        "outputId": "f4a665f9-c924-4302-adf7-8379709ba387"
      },
      "outputs": [
        {
          "output_type": "stream",
          "name": "stdout",
          "text": [
            "\"Don't do it\", said dad.\n"
          ]
        }
      ],
      "source": [
        "print('\"Don\\'t do it\", said dad.')"
      ]
    },
    {
      "cell_type": "code",
      "source": [
        "print('--\\N{LATIN SMALL LETTER L WITH STROKE}--')"
      ],
      "metadata": {
        "colab": {
          "base_uri": "https://localhost:8080/"
        },
        "id": "f_7SpK1W8PcM",
        "outputId": "47f1a59c-3308-4145-b5ef-be0f9b7ef7f6"
      },
      "execution_count": null,
      "outputs": [
        {
          "output_type": "stream",
          "name": "stdout",
          "text": [
            "--ł--\n"
          ]
        }
      ]
    },
    {
      "cell_type": "code",
      "source": [
        "print('--\\N{SNOWMAN}--')"
      ],
      "metadata": {
        "colab": {
          "base_uri": "https://localhost:8080/"
        },
        "id": "ygUYb3AZ8XUk",
        "outputId": "193f7bd3-a71c-4d16-a0d4-f580adaa1404"
      },
      "execution_count": null,
      "outputs": [
        {
          "output_type": "stream",
          "name": "stdout",
          "text": [
            "--☃--\n"
          ]
        }
      ]
    },
    {
      "cell_type": "code",
      "source": [
        "print('--\\N{KATAKANA LETTER TU}--')"
      ],
      "metadata": {
        "colab": {
          "base_uri": "https://localhost:8080/"
        },
        "id": "s7P-n9MP8cSj",
        "outputId": "539559ff-3026-4a20-9e0f-12ef57583ca8"
      },
      "execution_count": null,
      "outputs": [
        {
          "output_type": "stream",
          "name": "stdout",
          "text": [
            "--ツ--\n"
          ]
        }
      ]
    },
    {
      "cell_type": "code",
      "source": [
        "print('--\\N{BLACK STAR}--')"
      ],
      "metadata": {
        "colab": {
          "base_uri": "https://localhost:8080/"
        },
        "id": "cry9DKZ78ft1",
        "outputId": "b017e5bb-a056-4020-c92b-9297ec08dc9f"
      },
      "execution_count": null,
      "outputs": [
        {
          "output_type": "stream",
          "name": "stdout",
          "text": [
            "--★--\n"
          ]
        }
      ]
    },
    {
      "cell_type": "code",
      "source": [
        "print('--\\N{WHITE STAR}--')"
      ],
      "metadata": {
        "colab": {
          "base_uri": "https://localhost:8080/"
        },
        "id": "-ciVtznD8jaD",
        "outputId": "f7cfd79b-7411-44e8-fc11-2329b6e8a033"
      },
      "execution_count": null,
      "outputs": [
        {
          "output_type": "stream",
          "name": "stdout",
          "text": [
            "--☆--\n"
          ]
        }
      ]
    },
    {
      "cell_type": "code",
      "source": [
        "print('--\\N{PER MILLE SIGN}--')"
      ],
      "metadata": {
        "colab": {
          "base_uri": "https://localhost:8080/"
        },
        "id": "X48rTPDQ8qMX",
        "outputId": "6bb1b384-257c-42dd-d823-ac24b815ad56"
      },
      "execution_count": null,
      "outputs": [
        {
          "output_type": "stream",
          "name": "stdout",
          "text": [
            "--‰--\n"
          ]
        }
      ]
    },
    {
      "cell_type": "code",
      "source": [
        "print('--\\N{SECTION SIGN}--')"
      ],
      "metadata": {
        "colab": {
          "base_uri": "https://localhost:8080/"
        },
        "id": "Qh32Zhyv8voE",
        "outputId": "f7cc350a-61f9-4f4b-a023-5ed9c093bde3"
      },
      "execution_count": null,
      "outputs": [
        {
          "output_type": "stream",
          "name": "stdout",
          "text": [
            "--§--\n"
          ]
        }
      ]
    },
    {
      "cell_type": "code",
      "source": [
        "print('C:\\\\PyLadies\\\\New Folder')"
      ],
      "metadata": {
        "colab": {
          "base_uri": "https://localhost:8080/"
        },
        "id": "yahvlOZY85Pr",
        "outputId": "4f990124-2fa5-4c71-b46c-98188a37205f"
      },
      "execution_count": null,
      "outputs": [
        {
          "output_type": "stream",
          "name": "stdout",
          "text": [
            "C:\\PyLadies\\New Folder\n"
          ]
        }
      ]
    },
    {
      "cell_type": "code",
      "source": [
        "print('D:\\\\Networksshare\\\\Time')"
      ],
      "metadata": {
        "colab": {
          "base_uri": "https://localhost:8080/"
        },
        "id": "95VJOH_K87fM",
        "outputId": "900a5436-4b58-4ed2-cd67-76f577523ecb"
      },
      "execution_count": null,
      "outputs": [
        {
          "output_type": "stream",
          "name": "stdout",
          "text": [
            "D:\\Networksshare\\Time\n"
          ]
        }
      ]
    },
    {
      "cell_type": "code",
      "source": [
        "  help(multiply)"
      ],
      "metadata": {
        "colab": {
          "base_uri": "https://localhost:8080/"
        },
        "id": "dVUpGr1C9T7d",
        "outputId": "8c077b4d-1c45-44e7-b767-b3e235a6174c"
      },
      "execution_count": null,
      "outputs": [
        {
          "output_type": "stream",
          "name": "stdout",
          "text": [
            "Help on function multiply in module __main__:\n",
            "\n",
            "multiply(a, b)\n",
            "\n"
          ]
        }
      ]
    },
    {
      "cell_type": "code",
      "source": [
        "fifth_character = 'PyLadies'[5]\n",
        "print(fifth_character)"
      ],
      "metadata": {
        "colab": {
          "base_uri": "https://localhost:8080/"
        },
        "id": "yy6r7wavNiBt",
        "outputId": "97ce75ec-667a-4aef-a83c-f477db438b2a"
      },
      "execution_count": null,
      "outputs": [
        {
          "output_type": "stream",
          "name": "stdout",
          "text": [
            "i\n"
          ]
        }
      ]
    },
    {
      "cell_type": "code",
      "source": [
        "get_juice = \"Soda grapes\" [-1]\n",
        "print(get_juice)"
      ],
      "metadata": {
        "colab": {
          "base_uri": "https://localhost:8080/"
        },
        "id": "kfGxP6TSOuUe",
        "outputId": "d09068c2-d95d-4203-ccf6-efe033c41bf3"
      },
      "execution_count": null,
      "outputs": [
        {
          "output_type": "stream",
          "name": "stdout",
          "text": [
            "s\n"
          ]
        }
      ]
    },
    {
      "cell_type": "code",
      "source": [
        "get_juice = \"Soda grapes\"\n",
        "\n",
        "print(len(get_juice))"
      ],
      "metadata": {
        "colab": {
          "base_uri": "https://localhost:8080/"
        },
        "id": "P_exPRQnS-0R",
        "outputId": "20702c39-7ad3-49d8-fc82-132e64cd20f6"
      },
      "execution_count": null,
      "outputs": [
        {
          "output_type": "stream",
          "name": "stdout",
          "text": [
            "11\n"
          ]
        }
      ]
    },
    {
      "cell_type": "code",
      "source": [
        "first_name = input(\"What is your first name? \")\n",
        "second_name = input(\"What is your surname: \" )\n",
        "initials = first_name[0] + second_name[0]\n",
        "print('Initials:', initials.upper())"
      ],
      "metadata": {
        "colab": {
          "base_uri": "https://localhost:8080/"
        },
        "id": "VyW_9LtJU59Y",
        "outputId": "627ef98c-5668-4282-e922-13caafb1b60a"
      },
      "execution_count": null,
      "outputs": [
        {
          "output_type": "stream",
          "name": "stdout",
          "text": [
            "What is your first name? werer\n",
            "What is your surname: ryryrye\n",
            "Initials: WR\n"
          ]
        }
      ]
    },
    {
      "cell_type": "code",
      "source": [
        "#subsripting - print the fifth character to the end\n",
        "string = 'PyLadies'\n",
        "substring = string[5:]\n",
        "print(substring)"
      ],
      "metadata": {
        "colab": {
          "base_uri": "https://localhost:8080/"
        },
        "id": "A1rr8-G1axVF",
        "outputId": "48905f9e-8b20-4ab7-a4bd-bf0a7bf9f221"
      },
      "execution_count": null,
      "outputs": [
        {
          "output_type": "stream",
          "name": "stdout",
          "text": [
            "ies\n"
          ]
        }
      ]
    },
    {
      "cell_type": "code",
      "source": [
        "string = 'PyLadies'\n",
        "substring = string[2:5]\n",
        "print(substring)"
      ],
      "metadata": {
        "colab": {
          "base_uri": "https://localhost:8080/"
        },
        "id": "OeGI92PFbCWu",
        "outputId": "0b8180b1-b279-4cbf-dfd0-add81e921e9f"
      },
      "execution_count": null,
      "outputs": [
        {
          "output_type": "stream",
          "name": "stdout",
          "text": [
            "Lad\n"
          ]
        }
      ]
    },
    {
      "cell_type": "code",
      "source": [
        "string = 'PyLadies'\n",
        "substring = string[-4:]\n",
        "print(substring)"
      ],
      "metadata": {
        "colab": {
          "base_uri": "https://localhost:8080/"
        },
        "id": "hS42if3QbONp",
        "outputId": "2cf1f2ba-f17d-4731-df6b-5da1992366d7"
      },
      "execution_count": null,
      "outputs": [
        {
          "output_type": "stream",
          "name": "stdout",
          "text": [
            "dies\n"
          ]
        }
      ]
    },
    {
      "cell_type": "code",
      "source": [
        "from math import pi\n",
        "print(pi)"
      ],
      "metadata": {
        "colab": {
          "base_uri": "https://localhost:8080/"
        },
        "id": "_luq0tLgcdeP",
        "outputId": "de35a3f0-924c-4de9-93e4-5797366276d7"
      },
      "execution_count": null,
      "outputs": [
        {
          "output_type": "stream",
          "name": "stdout",
          "text": [
            "3.141592653589793\n"
          ]
        }
      ]
    }
  ]
}